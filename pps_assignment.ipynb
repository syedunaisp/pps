{
  "nbformat": 4,
  "nbformat_minor": 0,
  "metadata": {
    "colab": {
      "provenance": [],
      "authorship_tag": "ABX9TyO/aLlikgojkJz50Uj8J+aL"
    },
    "kernelspec": {
      "name": "python3",
      "display_name": "Python 3"
    },
    "language_info": {
      "name": "python"
    }
  },
  "cells": [
    {
      "cell_type": "code",
      "execution_count": null,
      "metadata": {
        "colab": {
          "base_uri": "https://localhost:8080/"
        },
        "id": "qWKZ2lZW8-kr",
        "outputId": "93939c97-c57e-41c6-95ee-049d84cbc167"
      },
      "outputs": [
        {
          "output_type": "stream",
          "name": "stderr",
          "text": [
            "UsageError: Cell magic `%%cu` not found.\n"
          ]
        }
      ],
      "source": [
        "//SYED UNAIS 402 DIV-7- Q1\n",
        "#include <stdio.h>\n",
        "int main() {\n",
        "    int amt, n100, n50, n10, n5, n2, n1;\n",
        "    scanf(\"%d\", &amt);\n",
        "    n100 = amt / 100; amt %= 100;\n",
        "    n50 = amt / 50; amt %= 50;\n",
        "    n10 = amt / 10; amt %= 10;\n",
        "    n5 = amt / 5; amt %= 5;\n",
        "    n2 = amt / 2; amt %= 2;\n",
        "    n1 = amt;\n",
        "    printf(\"%d %d %d %d %d %d\\n\", n100, n50, n10, n5, n2, n1);\n",
        "    return 0;\n",
        "}\n"
      ]
    },
    {
      "cell_type": "code",
      "source": [
        "// SYED UNAIS 402 DIV-7- Q2\n",
        "#include <stdio.h>\n",
        "int main() {\n",
        "    int r, s, a;\n",
        "    scanf(\"%d %d %d\", &r, &s, &a);\n",
        "    if (r < s && r < a) printf(\"Ram\\n\");\n",
        "    else if (s < a) printf(\"Shyam\\n\");\n",
        "    else printf(\"Ajay\\n\");\n",
        "    return 0;\n",
        "}\n"
      ],
      "metadata": {
        "id": "ulbVGW338_ey"
      },
      "execution_count": null,
      "outputs": []
    },
    {
      "cell_type": "code",
      "source": [
        "// SYED UNAIS 402 DIV-7- Q3\n",
        "#include <stdio.h>\n",
        "int main() {\n",
        "    float km;\n",
        "    scanf(\"%f\", &km);\n",
        "    printf(\"%.2f %.2f %.2f %.2f\\n\", km * 1000, km * 3280.84, km * 39370.1, km * 100000);\n",
        "    return 0;\n",
        "}\n"
      ],
      "metadata": {
        "id": "BHGoAFc29MzI"
      },
      "execution_count": null,
      "outputs": []
    },
    {
      "cell_type": "code",
      "source": [
        "// SYED UNAIS 402 DIV-7- Q4\n",
        "#include <stdio.h>\n",
        "int main() {\n",
        "    int x, y;\n",
        "    scanf(\"%d %d\", &x, &y);\n",
        "    printf(\"%d\\n\", 6 * x + y);\n",
        "    return 0;\n",
        "}\n"
      ],
      "metadata": {
        "id": "3ohm9WEl9SH1"
      },
      "execution_count": null,
      "outputs": []
    },
    {
      "cell_type": "code",
      "source": [
        "// SYED UNAIS 402 DIV-7- Q5\n",
        "#include <stdio.h>\n",
        "#include <math.h>\n",
        "int main() {\n",
        "    float a, b, x, y;\n",
        "    scanf(\"%f %f %f %f\", &a, &b, &x, &y);\n",
        "    printf(\"%.2f\\n\", (a * x + b) / (a * x - b));\n",
        "    printf(\"%.2f\\n\", 2.5 * log(x) + sin(53) + sqrt(2 * x * y));\n",
        "    return 0;\n",
        "}\n"
      ],
      "metadata": {
        "id": "sKveDUaP9lNK"
      },
      "execution_count": null,
      "outputs": []
    },
    {
      "cell_type": "code",
      "source": [
        "// SYED UNAIS 402 DIV-7- Q6\n",
        "#include <stdio.h>\n",
        "int main() {\n",
        "    int x;\n",
        "    scanf(\"%d\", &x);\n",
        "    printf(x == 25 ? \"CHRISTMAS\\n\" : \"ORDINARY\\n\");\n",
        "    return 0;\n",
        "}\n"
      ],
      "metadata": {
        "id": "tIu-Xnq-9tRV"
      },
      "execution_count": null,
      "outputs": []
    },
    {
      "cell_type": "code",
      "source": [
        "// SYED UNAIS 402 DIV-7- Q7\n",
        "#include <stdio.h>\n",
        "int main() {\n",
        "    for (int i = 1; i <= 3; i++)\n",
        "        for (int j = 1; j <= 3; j++)\n",
        "            for (int k = 1; k <= 3; k++)\n",
        "                printf(\"%d%d%d\\n\", i, j, k);\n",
        "    return 0;\n",
        "}\n"
      ],
      "metadata": {
        "id": "STpAw2g79xg0"
      },
      "execution_count": null,
      "outputs": []
    },
    {
      "cell_type": "code",
      "source": [
        "// SYED UNAIS 402 DIV-7 - Q 8\n",
        "#include <stdio.h>\n",
        "int main() {\n",
        "    char ch;\n",
        "    int y;\n",
        "    scanf(\" %c %d\", &ch, &y);\n",
        "    printf(ch >= 'a' && ch <= 'z' ? \"Lowercase\\n\" : \"Not Lowercase\\n\");\n",
        "    printf((y % 4 == 0 && y % 100 != 0) || y % 400 == 0 ? \"Leap Year\\n\" : \"Not Leap Year\\n\");\n",
        "    return 0;\n",
        "}\n"
      ],
      "metadata": {
        "id": "wlNezhjMBB3M"
      },
      "execution_count": null,
      "outputs": []
    },
    {
      "cell_type": "code",
      "source": [
        "// SYED UNAIS 402 DIV-7 - Q 9\n",
        "#include <stdio.h>\n",
        "int main() {\n",
        "    int h, t;\n",
        "    float c;\n",
        "    scanf(\"%d %f %d\", &h, &c, &t);\n",
        "    if (h > 60 && c < 0.8 && t > 7500) printf(\"10\\n\");\n",
        "    else if (h > 60 && c < 0.8) printf(\"9\\n\");\n",
        "    else if (c < 0.8 && t > 7500) printf(\"8\\n\");\n",
        "    else if (h > 60 && t > 7500) printf(\"7\\n\");\n",
        "    else if (h > 60 || c < 0.8 || t > 7500) printf(\"6\\n\");\n",
        "    else printf(\"5\\n\");\n",
        "    return 0;\n",
        "}\n"
      ],
      "metadata": {
        "id": "1nrjSEkwBEK-"
      },
      "execution_count": null,
      "outputs": []
    },
    {
      "cell_type": "code",
      "source": [
        "// SYED UNAIS 402 DIV-7 - Q10\n",
        "#include <stdio.h>\n",
        "int main() {\n",
        "    int age, amt;\n",
        "    char gender, loc;\n",
        "    scanf(\"%d %c %c %d\", &age, &gender, &loc, &amt);\n",
        "    if (age >= 25 && age <= 35 && loc == 'c') {\n",
        "        if (gender == 'm' && amt <= 300000) printf(\"%d\\n\", amt * 10 / 1000);\n",
        "        else if (gender == 'f' && amt <= 500000) printf(\"%d\\n\", amt * 15 / 1000);\n",
        "    } else printf(\"Not Eligible\\n\");\n",
        "    return 0;\n",
        "}\n"
      ],
      "metadata": {
        "id": "m8aA3MaPBGfS"
      },
      "execution_count": null,
      "outputs": []
    },
    {
      "cell_type": "code",
      "source": [
        "// SYED UNAIS 402 DIV-7 - Q 11\n",
        "#include <stdio.h>\n",
        "int main() {\n",
        "    float amt, disc;\n",
        "    scanf(\"%f\", &amt);\n",
        "    if (amt >= 100 && amt <= 200) disc = 0.05;\n",
        "    else if (amt <= 500) disc = 0.075;\n",
        "    else if (amt <= 800) disc = 0.1;\n",
        "    else disc = 0.15;\n",
        "    printf(\"%.2f\\n\", amt - amt * disc);\n",
        "    return 0;\n",
        "}\n"
      ],
      "metadata": {
        "id": "8wSp3zLmBIvo"
      },
      "execution_count": null,
      "outputs": []
    },
    {
      "cell_type": "code",
      "source": [
        "// SYED UNAIS 402 DIV-7 - Q 12\n",
        "#include <stdio.h>\n",
        "int main() {\n",
        "    float sal, tax = 0;\n",
        "    scanf(\"%f\", &sal);\n",
        "    if (sal > 200000) {\n",
        "        if (sal <= 500000) tax = (sal - 200000) * 0.1;\n",
        "        else if (sal <= 1000000) tax = 30000 + (sal - 500000) * 0.2;\n",
        "        else tax = 130000 + (sal - 1000000) * 0.3;\n",
        "    }\n",
        "    printf(\"%.2f\\n\", tax);\n",
        "    return 0;\n",
        "}\n"
      ],
      "metadata": {
        "id": "aqkqlisjBNff"
      },
      "execution_count": null,
      "outputs": []
    },
    {
      "cell_type": "code",
      "source": [
        "// SYED UNAIS 402 DIV-7 - Q 13\n",
        "#include <stdio.h>\n",
        "int main() {\n",
        "    int x, y, z;\n",
        "    x = 2 + 3 - 4 + 5 - (6 - 7);\n",
        "    y = 2 * 33 + 4 * (5 - 6);\n",
        "    z = 2 * 3 * 4 / 15 % 13;\n",
        "    printf(\"%d %d %d\\n\", x, y, z);\n",
        "    return 0;\n",
        "}\n"
      ],
      "metadata": {
        "id": "5uz1tYTeBPVl"
      },
      "execution_count": null,
      "outputs": []
    },
    {
      "cell_type": "code",
      "source": [
        "// SYED UNAIS 402 DIV-7 - Q14\n",
        "#include <stdio.h>\n",
        "int main() {\n",
        "    int n, sum = 0, num;\n",
        "    scanf(\"%d\", &n);\n",
        "    for (int i = 0; i < n; i++) {\n",
        "        scanf(\"%d\", &num);\n",
        "        sum += num;\n",
        "    }\n",
        "    printf(\"%.2f\\n\", (float)sum / n);\n",
        "    return 0;\n",
        "}\n"
      ],
      "metadata": {
        "id": "MSmY8H1RBRS4"
      },
      "execution_count": null,
      "outputs": []
    },
    {
      "cell_type": "code",
      "source": [
        "// SYED UNAIS 402 DIV-7 - Q 15\n",
        "#include <stdio.h>\n",
        "#include <math.h>\n",
        "int main() {\n",
        "    int n, root;\n",
        "    scanf(\"%d\", &n);\n",
        "    root = sqrt(n);\n",
        "    printf(root * root == n ? \"Yes\\n\" : \"No\\n\");\n",
        "    return 0;\n",
        "}\n"
      ],
      "metadata": {
        "id": "akbKnTgfBUgI"
      },
      "execution_count": null,
      "outputs": []
    },
    {
      "cell_type": "code",
      "source": [
        "// SYED UNAIS 402 DIV-7 - Q 16\n",
        "#include <stdio.h>\n",
        "int main() {\n",
        "    int time;\n",
        "    scanf(\"%d\", &time);\n",
        "    if (time >= 21) printf(\"Good Night\\n\");\n",
        "    else if (time >= 18) printf(\"Good Evening\\n\");\n",
        "    else if (time >= 12) printf(\"Good Afternoon\\n\");\n",
        "    else printf(\"Good Morning\\n\");\n",
        "    return 0;\n",
        "}\n"
      ],
      "metadata": {
        "id": "TZ7XP92-BWwe"
      },
      "execution_count": null,
      "outputs": []
    },
    {
      "cell_type": "code",
      "source": [
        "// SYED UNAIS 402 DIV-7 - Q 17\n",
        "#include <stdio.h>\n",
        "int fact(int n) {\n",
        "    int f = 1;\n",
        "    for (int i = 1; i <= n; i++) f *= i;\n",
        "    return f;\n",
        "}\n",
        "int main() {\n",
        "    float sum = 0;\n",
        "    for (int i = 1; i <= 5; i++) sum += (float)i / fact(i);\n",
        "    printf(\"%.2f\\n\", sum);\n",
        "    return 0;\n",
        "}\n"
      ],
      "metadata": {
        "id": "3jo5nR_IBkpO"
      },
      "execution_count": null,
      "outputs": []
    },
    {
      "cell_type": "code",
      "source": [
        "// SYED UNAIS 402 DIV-7 - Q 18\n",
        "#include <stdio.h>\n",
        "int main() {\n",
        "    int weight;\n",
        "    scanf(\"%d\", &weight);\n",
        "    printf(\"%.2f\\n\", weight * 0.033);\n",
        "    return 0;\n",
        "}\n"
      ],
      "metadata": {
        "id": "E8jvdkM5Bn8o"
      },
      "execution_count": null,
      "outputs": []
    },
    {
      "cell_type": "code",
      "source": [
        "// SYED UNAIS 402 DIV-7 - Q 19\n",
        "#include <stdio.h>\n",
        "int main() {\n",
        "    int units;\n",
        "    float bill = 0;\n",
        "    scanf(\"%d\", &units);\n",
        "    if (units > 200) { bill += (units - 200) * 0.25; units = 200; }\n",
        "    if (units > 100) { bill += (units - 100) * 0.2; units = 100; }\n",
        "    bill += units * 0.15;\n",
        "    printf(\"%.2f\\n\", bill);\n",
        "    return 0;\n",
        "}\n"
      ],
      "metadata": {
        "id": "kBZYp9QuBpp_"
      },
      "execution_count": null,
      "outputs": []
    },
    {
      "cell_type": "code",
      "source": [
        "// SYED UNAIS 402 DIV-7 - Q 20\n",
        "#include <stdio.h>\n",
        "int main() {\n",
        "    int books;\n",
        "    float price, total;\n",
        "    scanf(\"%d %f\", &books, &price);\n",
        "    if (books > 10) total = books * price * 0.75;\n",
        "    else if (books >= 6) total = books * price * 0.8;\n",
        "    else if (books >= 3) total = books * price * 0.9;\n",
        "    else total = books * price;\n",
        "    printf(\"%.2f\\n\", total);\n",
        "    return 0;\n",
        "}\n"
      ],
      "metadata": {
        "id": "RGIqMTBFBrsO"
      },
      "execution_count": null,
      "outputs": []
    },
    {
      "cell_type": "code",
      "source": [
        "// SYED UNAIS 402 DIV-7 - Q 21\n",
        "#include <stdio.h>\n",
        "int main() {\n",
        "    float p, r;\n",
        "    int y;\n",
        "    scanf(\"%f %f %d\", &p, &r, &y);\n",
        "    printf(\"%.2f\\n\", p * r * y / 100);\n",
        "    return 0;\n",
        "}\n"
      ],
      "metadata": {
        "id": "MOlZgelUBti0"
      },
      "execution_count": null,
      "outputs": []
    },
    {
      "cell_type": "code",
      "source": [
        "// SYED UNAIS 402 DIV-7 - Q 22\n",
        "#include <stdio.h>\n",
        "int count(int n) {\n",
        "    if (n == 0) return 0;\n",
        "    return 1 + count(n / 10);\n",
        "}\n",
        "int main() {\n",
        "    int n;\n",
        "    scanf(\"%d\", &n);\n",
        "    printf(\"%d\\n\", count(n));\n",
        "    return 0;\n",
        "}\n"
      ],
      "metadata": {
        "id": "XX9cs5OFBviw"
      },
      "execution_count": null,
      "outputs": []
    },
    {
      "cell_type": "code",
      "source": [
        "// SYED UNAIS 402 DIV-7 - Q 23\n",
        "#include <stdio.h>\n",
        "void print(int n) {\n",
        "    if (n > 25) return;\n",
        "    printf(\"%d \", n);\n",
        "    print(n + 1);\n",
        "}\n",
        "int main() {\n",
        "    print(1);\n",
        "    return 0;\n",
        "}\n"
      ],
      "metadata": {
        "id": "855kQCBqBxXo"
      },
      "execution_count": null,
      "outputs": []
    }
  ]
}